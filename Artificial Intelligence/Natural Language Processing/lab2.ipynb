{
 "cells": [
  {
   "cell_type": "markdown",
   "id": "319c83df",
   "metadata": {},
   "source": [
    "# AIC-5102B Lab 2 / Text classification\n",
    "\n",
    "The aim of this lab is to use LDA and its kernelized version to perform text classification. You should work by pairs, as I explained by email.\n",
    "\n",
    "## 0. Submission instructions\n",
    "\n",
    "Drop a ZIP archive of your working directory on https://mvproxy.esiee.fr by October 5th, 23:59. Late deliveries will be penalized 1pt/day. As you are working by pairs, any of you can submit for both; moreover, the last submission overwrites the former ones.\n",
    "\n",
    "Your working directory should contain:\n",
    "- This notebook (lab2.ipynb), filled with answers to the questions ;\n",
    "- and a *local* copy of the text articles or CSV files you are working with, which you should access to relatively and not absolutely. \n",
    "\n",
    "Please pay attention to the latter point. Code like\n",
    "```\n",
    "csv.reader('C:\\Users\\Yoyodyne\\My Documents\\AIC-5102B\\Lab2 Text Classification/dataset.csv')\n",
    "```\n",
    "\n",
    "should be banned, and replaced by\n",
    "```\n",
    "csv.reader('dataset.csv')\n",
    "```\n",
    "or\n",
    "```\n",
    "csv.read('./data/class1.csv')\n",
    "csv.read('./data/class2.csv')\n",
    "```\n",
    "\n",
    "I should be able to run your code on *Linux* without modifying the 'C:\\Users\\Yoyodyne\\My Documents\\AIC-5102B', which I don't have access to, nor changing anything else when I run your notebook. You must also stick to NLTK, and packages I include myself in the following code blocks, and nothing else.\n",
    "\n",
    "\n",
    "## 1. Setup\n",
    "\n",
    "\n",
    "You are free to choose the working dataset you wish to work with from Kaggle amongnst the following :\n",
    "- Ecommerce Text Classification\n",
    "- BBC Full Text Document Classification\n",
    "- Text Classification on Emails\n",
    "- Spam Text Message Classification\n",
    "\n",
    "See https://www.kaggle.com/datasets?search=text+classification\n",
    "\n",
    "Moreover, to alleviate the problem we will work with only 2 classes, so you will also have to choose 2 classes amongst those offered by your dataset.\n",
    "\n",
    "You should choose a dataset which contains documents which are long enough, otherwise it is unlikely that the specialized kernel of part 4 will help. Tweets, in particular, are discouraged for that reason. If you wish to use another dataset that those mentioned above, simply ask me for validation.\n",
    "\n",
    "Which dataset and classes did you chose ? Copy the related files to your working directory."
   ]
  },
  {
   "cell_type": "markdown",
   "id": "05ade3b1",
   "metadata": {},
   "source": [
    "\n"
   ]
  },
  {
   "cell_type": "markdown",
   "id": "6b79abd6",
   "metadata": {},
   "source": [
    "## 2. Text vectorization\n",
    "\n",
    "The following functions :\n",
    "- extract the vocabulary from row #5 (that number is arbitrary) of the specified CSV file \n",
    "- build the document-term matrix by reading again the same CSV file\n",
    "\n",
    "Adapt them, so that they fit your dataset and produce a D-T matrix in the end.\n",
    "\n",
    "Please note that:\n",
    "- the tokenization method used is wordpunct_tokenize(), which may not be optimal. You may call something different in case you find really too much garbage in your resulting vocabulary.\n",
    "- there are two \"if\" tests in dtmat_from_file which appear unnecessary so far. They are, indeed, because the test samples may include unseen words, which would generate out-of-bounds index. So unseen words are just ignored.\n",
    "- you may also want to lemmatize. "
   ]
  },
  {
   "cell_type": "code",
   "execution_count": 1,
   "id": "190415fd",
   "metadata": {},
   "outputs": [],
   "source": [
    "import csv\n",
    "import nltk\n",
    "import numpy as np\n",
    "import sys\n",
    "\n",
    "\n",
    "def voc_from_csv(csvfile):\n",
    "    nlines=0\n",
    "    voc=[]\n",
    "    with open(csvfile, errors='ignore') as file:\n",
    "        reader=csv.reader(file, delimiter=',')\n",
    "        for row in reader:\n",
    "            nlines=nlines+1\n",
    "            voc.extend(nltk.wordpunct_tokenize(row[1]))\n",
    "    voc=sorted(set(voc))        \n",
    "    return voc,nlines\n",
    "\n",
    "def dtmat_from_csv(csvfile):\n",
    "    voc,rows=voc_from_csv(csvfile)\n",
    "    cols=len(voc)\n",
    "    mat=np.zeros((rows,cols))\n",
    "    d=0\n",
    "    with open(csvfile,  errors='ignore') as file:\n",
    "        reader=csv.reader(file, delimiter=',')\n",
    "        for row in reader:\n",
    "            w= nltk.wordpunct_tokenize(row[1])\n",
    "            X=np.searchsorted(voc,w,side='left')            \n",
    "            for i in range(0,len(w)):\n",
    "                if (X[i] < cols):\n",
    "                    if (w[i] == voc[X[i]]):\n",
    "                        mat[d][X[i]]+=1\n",
    "            d=d+1\n",
    "    return mat\n"
   ]
  },
  {
   "cell_type": "markdown",
   "id": "7c4d9a6e",
   "metadata": {},
   "source": [
    "### Question 1 \n",
    "\n",
    "Run dtmat_from_csv on one of your sample dataset. Examine the resulting matrix. How many times does it happen that a given word is seen only once (possibly twice) in your training set ? Give a few lines which show this below."
   ]
  },
  {
   "cell_type": "markdown",
   "id": "1d9fc5a5",
   "metadata": {},
   "source": [
    "<font color=\"blue\">\n",
    "Before creating the DT-Mat from the corpus, we must create a subset of data for the study. Indeed, in the default datasets, there are more than two classes and too much document. Thus, we must choose which classes we want to keep and delete all the others. Also, we must randomly remove some documents in the created subset.<br/>\n",
    "Also, to be able to train some models, we must extract the classes of each document into a new array that will be used as targets. \n",
    "</font>"
   ]
  },
  {
   "cell_type": "code",
   "execution_count": 2,
   "id": "5cd74032",
   "metadata": {},
   "outputs": [
    {
     "name": "stdout",
     "output_type": "stream",
     "text": [
      "{'Household', 'Clothing & Accessories', 'Electronics', 'Books'}\n"
     ]
    }
   ],
   "source": [
    "types = set(())\n",
    "with open('dataset.csv', errors='ignore') as file:\n",
    "    reader = csv.reader(file, delimiter=',')\n",
    "    for row in reader:\n",
    "        types.add(row[0])\n",
    "print(types)"
   ]
  },
  {
   "cell_type": "markdown",
   "id": "bc2ff94a",
   "metadata": {},
   "source": [
    "<font color=\"blue\">\n",
    "We notice that there are four classes in the whole dataset. We will only keep two. In our case, we chose to keep the texts talking about 'Household' and 'Books'. The 'Clothing & Accesories' and 'Electronics' topics are removed from the study dataset.\n",
    "</font>"
   ]
  },
  {
   "cell_type": "code",
   "execution_count": 3,
   "id": "ca353f54",
   "metadata": {},
   "outputs": [
    {
     "name": "stdout",
     "output_type": "stream",
     "text": [
      "Total size:  1132 \n",
      "Class 1 size:  683 \n",
      "Class 2 size:  449\n"
     ]
    },
    {
     "name": "stderr",
     "output_type": "stream",
     "text": [
      "/tmp/ipykernel_13479/2694738220.py:15: UserWarning: Boolean Series key will be reindexed to match DataFrame index.\n",
      "  class1 = df_subset[df.Class=='Household'].shape[0]\n",
      "/tmp/ipykernel_13479/2694738220.py:16: UserWarning: Boolean Series key will be reindexed to match DataFrame index.\n",
      "  class2 = df_subset[df.Class=='Books'].shape[0]\n"
     ]
    }
   ],
   "source": [
    "import pandas as pd\n",
    "df = pd.read_csv('dataset.csv')\n",
    "# Only keeps Household and Books classes\n",
    "df.columns = ['Class', 'Text']\n",
    "df = df.drop(df[df.Class == 'Clothing & Accessories'].index)\n",
    "df = df.drop(df[df.Class == 'Electronics'].index)\n",
    "\n",
    "# Discard data to avoid too long computation time\n",
    "remove_n = 30000\n",
    "drop_indices = np.random.choice(df.index, remove_n, replace=False)\n",
    "df_subset = df.drop(drop_indices)\n",
    "classes = df_subset[\"Class\"].reset_index()\n",
    "\n",
    "total = df_subset.shape[0]\n",
    "class1 = df_subset[df.Class=='Household'].shape[0]\n",
    "class2 = df_subset[df.Class=='Books'].shape[0]\n",
    "print('Total size: ', total,'\\nClass 1 size: ',class1,'\\nClass 2 size: ', class2)"
   ]
  },
  {
   "cell_type": "code",
   "execution_count": 4,
   "id": "cd1b3754",
   "metadata": {
    "scrolled": true
   },
   "outputs": [
    {
     "data": {
      "text/plain": [
       "(1132, 19403)"
      ]
     },
     "execution_count": 4,
     "metadata": {},
     "output_type": "execute_result"
    }
   ],
   "source": [
    "df_subset.to_csv('Wdataset.csv', index=False,header=False)\n",
    "mat = dtmat_from_csv('Wdataset.csv')\n",
    "pd.DataFrame(mat).shape"
   ]
  },
  {
   "cell_type": "markdown",
   "id": "26b8d219",
   "metadata": {},
   "source": [
    "### Question 2\n",
    "\n",
    "Suppose we use ordinary LDA to separate positive from negative samples, computed by voc_from_csv(). What will be the effect of an increasing number of \"seen only once\" words :\n",
    "- on the memory complexity of the solution ?\n",
    "- on the solution itself ?\n",
    "\n",
    "Write your answer below, either in plain language or using LaTeX notation for formulas if you prefer. This question is purely theoretical and does not require any programming."
   ]
  },
  {
   "cell_type": "markdown",
   "id": "c50ea07d",
   "metadata": {},
   "source": [
    "<font color='blue'>\n",
    "<h3> Answer: </h3>  \n",
    "\n",
    "Increasing seen only words will increase the memory complexity of the solution. Indeed, these words are not interesting in terms of results since they appear only once but some space must be allocated to them. We can't build a model depending on them. Having such words will reduce effectiveness of our model.\n",
    "\n",
    "In LDA, unique words can either lead to the easy classification in some classes, or to misclassification if the unique word is found in the testing phase and has never seen in training.\n",
    "</font>"
   ]
  },
  {
   "cell_type": "markdown",
   "id": "62aa9d6f",
   "metadata": {},
   "source": [
    "### Question 3\n",
    "\n",
    "No matter what your answer to question 2 is, add boolean parameter to voc_from_csv(), say \"purge\", so that when \"purge\" is True, the \"only seen once\" words are *not* included in the vocabulary. There is no need to modify dtmat_from_csv(),which has already been written to take this into account, except from the call to voc_from_csv().\n",
    "Change the block below accordingly:"
   ]
  },
  {
   "cell_type": "code",
   "execution_count": 5,
   "id": "b4b1e8b3",
   "metadata": {},
   "outputs": [],
   "source": [
    "def dtmat_from_csv(csvfile, purge=False):\n",
    "    voc,rows=voc_from_csv(csvfile)\n",
    "    cols=len(voc)\n",
    "    mat=np.zeros((rows,cols))\n",
    "    d=0\n",
    "    with open(csvfile,  errors='ignore') as file:\n",
    "        reader=csv.reader(file, delimiter=',')\n",
    "        for row in reader:\n",
    "            w= nltk.wordpunct_tokenize(row[1])\n",
    "            X=np.searchsorted(voc,w,side='left')            \n",
    "            for i in range(0,len(w)):\n",
    "                if (X[i] < cols):\n",
    "                    if (w[i] == voc[X[i]]):\n",
    "                        mat[d][X[i]]+=1\n",
    "            d=d+1\n",
    "    # Parameter to clean all rare values\n",
    "    if purge:\n",
    "        df = pd.DataFrame(mat)\n",
    "        print(\"Before purge: \", df.shape)\n",
    "        column_sum = df.sum(axis=0)\n",
    "        selected_columns = [col for col in df.columns if column_sum[col] >= 2]\n",
    "        df = df[selected_columns]\n",
    "        mat = df.to_numpy()\n",
    "    return mat"
   ]
  },
  {
   "cell_type": "code",
   "execution_count": 6,
   "id": "acb8d46b",
   "metadata": {},
   "outputs": [
    {
     "name": "stdout",
     "output_type": "stream",
     "text": [
      "Before purge:  (1132, 19403)\n"
     ]
    },
    {
     "data": {
      "text/plain": [
       "(1132, 10347)"
      ]
     },
     "execution_count": 6,
     "metadata": {},
     "output_type": "execute_result"
    }
   ],
   "source": [
    "mat = dtmat_from_csv('Wdataset.csv', purge=True)\n",
    "pd.DataFrame(mat).shape"
   ]
  },
  {
   "cell_type": "markdown",
   "id": "09b10fb5",
   "metadata": {},
   "source": [
    "## 3. Ordinary LDA\n",
    "\n",
    "### Question 4\n",
    "\n",
    "Write an lda(X1,X2) function which computes and returns the direction predicted by the ordinary LDA given samples X1 and X2, which should be passed as matrices of row vectors. The function should return:\n",
    "- $\\boldsymbol{u}$, the optimal direction\n",
    "- and $s$, the abscissa of the hyperplane (the linear discriminant) on $\\boldsymbol{u}$ which optimally separates the data assuming they are normally distributed after their projection on $\\boldsymbol{u}$\n"
   ]
  },
  {
   "cell_type": "code",
   "execution_count": 7,
   "id": "c107d305",
   "metadata": {},
   "outputs": [],
   "source": [
    "def lda(X1,X2):\n",
    "    # Means \n",
    "    mean_X1 = np.mean(X1, axis=0)\n",
    "    mean_X2 = np.mean(X2, axis=0)\n",
    "    # Variance-covariance matrices\n",
    "    Sw_X1 = np.cov(X1, rowvar=False, bias=True)\n",
    "    Sw_X2 = np.cov(X2, rowvar=False, bias=True)\n",
    "    Sw = Sw_X1 + Sw_X2\n",
    "    # Directional vector and abscissa\n",
    "    u = np.linalg.solve(Sw, mean_X1 - mean_X2) # Solves W⁻¹.(m1-m2)\n",
    "    s = (u.dot(mean_X1) + u.dot(mean_X2)) / 2 # Get the abscissa\n",
    "    return u, s"
   ]
  },
  {
   "cell_type": "markdown",
   "id": "c2116dab",
   "metadata": {},
   "source": [
    "### Question 5\n",
    "\n",
    "Test your function on a toy sample. Count how many points are correcly classified. You may use/extend/modify the following piece of code:"
   ]
  },
  {
   "cell_type": "code",
   "execution_count": 8,
   "id": "ac937407",
   "metadata": {},
   "outputs": [],
   "source": [
    "import matplotlib.pyplot as plt\n",
    "\n",
    "def render(X1,X2,u,s,ax,fig):\n",
    "    # Projections on the optimal direction u\n",
    "    y1 = X1.dot(u)\n",
    "    y2 = X2.dot(u)\n",
    "    threshold = (s + y1.mean() + y2.mean())/3 # Class boundary\n",
    "    # Misclassified values\n",
    "    errors = 0\n",
    "    if np.mean(y1) < threshold:\n",
    "        errors += np.sum(y1 > threshold)\n",
    "        errors += np.sum(y2 < threshold)\n",
    "    else:\n",
    "        errors += np.sum(y1 < threshold)\n",
    "        errors += np.sum(y2 > threshold)\n",
    "    # Visualization\n",
    "    ax.scatter(y1, [-1] * len(X1), label='Class 1', marker='o', color='blue')\n",
    "    ax.scatter(y2, [1] * len(X2), label='Class 2', marker='x', color='red')\n",
    "    ax.plot([threshold]*2, [-1, 1], 'g--', label='Decision boundary')\n",
    "    #fig.legend()\n",
    "\n",
    "    score = errors*100/(y1.size + y2.size)\n",
    "    print(\"Abscissa of the boundary: \", threshold)\n",
    "    print(\"A total of \", errors, \" points are misclassified (\",score,\"%)\")"
   ]
  },
  {
   "cell_type": "code",
   "execution_count": 9,
   "id": "6cd2ee0d",
   "metadata": {},
   "outputs": [
    {
     "name": "stdout",
     "output_type": "stream",
     "text": [
      "Abscissa of the boundary:  -1.1188420642432488\n",
      "A total of  0  points are misclassified ( 0.0 %)\n"
     ]
    },
    {
     "data": {
      "image/png": "[encoded data removed]",
      "text/plain": [
       "<Figure size 640x480 with 1 Axes>"
      ]
     },
     "metadata": {},
     "output_type": "display_data"
    }
   ],
   "source": [
    "X1=np.random.multivariate_normal([1,2], np.identity(2),30)\n",
    "X2=np.random.multivariate_normal([-3,0], 0.5*np.identity(2),20)\n",
    "u,s = lda(X1,X2)\n",
    "\n",
    "fig,ax = plt.subplots()\n",
    "render(X1,X2,u,s,ax,fig)"
   ]
  },
  {
   "cell_type": "markdown",
   "id": "cf5637e1",
   "metadata": {},
   "source": [
    "<font color=\"blue\">\n",
    "This kind of algorithm performs relatively well on normally distributed data. Thus, over 50 samples, we obtain at most 2 or 3 misclassified values. \n",
    "</font>"
   ]
  },
  {
   "cell_type": "markdown",
   "id": "90684a7e",
   "metadata": {},
   "source": [
    "### Question 6\n",
    "\n",
    "Test the same function on your text classes. For at least one of them (most likeley, the lightest), you should normally have a problem. Why ? Add some code to your function to fix it."
   ]
  },
  {
   "cell_type": "code",
   "execution_count": 10,
   "id": "0f656f79",
   "metadata": {},
   "outputs": [
    {
     "ename": "LinAlgError",
     "evalue": "Singular matrix",
     "output_type": "error",
     "traceback": [
      "\u001b[0;31m---------------------------------------------------------------------------\u001b[0m",
      "\u001b[0;31mLinAlgError\u001b[0m                               Traceback (most recent call last)",
      "Cell \u001b[0;32mIn[10], line 4\u001b[0m\n\u001b[1;32m      2\u001b[0m X1 \u001b[38;5;241m=\u001b[39m df[classes[\u001b[38;5;124m\"\u001b[39m\u001b[38;5;124mClass\u001b[39m\u001b[38;5;124m\"\u001b[39m]\u001b[38;5;241m==\u001b[39m\u001b[38;5;124m\"\u001b[39m\u001b[38;5;124mHousehold\u001b[39m\u001b[38;5;124m\"\u001b[39m]\n\u001b[1;32m      3\u001b[0m X2 \u001b[38;5;241m=\u001b[39m df[classes[\u001b[38;5;124m\"\u001b[39m\u001b[38;5;124mClass\u001b[39m\u001b[38;5;124m\"\u001b[39m]\u001b[38;5;241m==\u001b[39m\u001b[38;5;124m\"\u001b[39m\u001b[38;5;124mBooks\u001b[39m\u001b[38;5;124m\"\u001b[39m]\n\u001b[0;32m----> 4\u001b[0m u,s \u001b[38;5;241m=\u001b[39m \u001b[43mlda\u001b[49m\u001b[43m(\u001b[49m\u001b[43mX1\u001b[49m\u001b[43m,\u001b[49m\u001b[43mX2\u001b[49m\u001b[43m)\u001b[49m\n\u001b[1;32m      5\u001b[0m fig,ax \u001b[38;5;241m=\u001b[39m plt\u001b[38;5;241m.\u001b[39msubplots()\n\u001b[1;32m      6\u001b[0m render(X1,X2,u,s,ax,fig)\n",
      "Cell \u001b[0;32mIn[7], line 10\u001b[0m, in \u001b[0;36mlda\u001b[0;34m(X1, X2)\u001b[0m\n\u001b[1;32m      8\u001b[0m Sw \u001b[38;5;241m=\u001b[39m Sw_X1 \u001b[38;5;241m+\u001b[39m Sw_X2\n\u001b[1;32m      9\u001b[0m \u001b[38;5;66;03m# Directional vector and abscissa\u001b[39;00m\n\u001b[0;32m---> 10\u001b[0m u \u001b[38;5;241m=\u001b[39m \u001b[43mnp\u001b[49m\u001b[38;5;241;43m.\u001b[39;49m\u001b[43mlinalg\u001b[49m\u001b[38;5;241;43m.\u001b[39;49m\u001b[43msolve\u001b[49m\u001b[43m(\u001b[49m\u001b[43mSw\u001b[49m\u001b[43m,\u001b[49m\u001b[43m \u001b[49m\u001b[43mmean_X1\u001b[49m\u001b[43m \u001b[49m\u001b[38;5;241;43m-\u001b[39;49m\u001b[43m \u001b[49m\u001b[43mmean_X2\u001b[49m\u001b[43m)\u001b[49m \u001b[38;5;66;03m# Solves W⁻¹.(m1-m2)\u001b[39;00m\n\u001b[1;32m     11\u001b[0m s \u001b[38;5;241m=\u001b[39m (u\u001b[38;5;241m.\u001b[39mdot(mean_X1) \u001b[38;5;241m+\u001b[39m u\u001b[38;5;241m.\u001b[39mdot(mean_X2)) \u001b[38;5;241m/\u001b[39m \u001b[38;5;241m2\u001b[39m \u001b[38;5;66;03m# Get the abscissa\u001b[39;00m\n\u001b[1;32m     12\u001b[0m \u001b[38;5;28;01mreturn\u001b[39;00m u, s\n",
      "File \u001b[0;32m~/Documents/ESIEE/E5/NLP/nlpenv/lib/python3.11/site-packages/numpy/linalg/linalg.py:409\u001b[0m, in \u001b[0;36msolve\u001b[0;34m(a, b)\u001b[0m\n\u001b[1;32m    407\u001b[0m signature \u001b[38;5;241m=\u001b[39m \u001b[38;5;124m'\u001b[39m\u001b[38;5;124mDD->D\u001b[39m\u001b[38;5;124m'\u001b[39m \u001b[38;5;28;01mif\u001b[39;00m isComplexType(t) \u001b[38;5;28;01melse\u001b[39;00m \u001b[38;5;124m'\u001b[39m\u001b[38;5;124mdd->d\u001b[39m\u001b[38;5;124m'\u001b[39m\n\u001b[1;32m    408\u001b[0m extobj \u001b[38;5;241m=\u001b[39m get_linalg_error_extobj(_raise_linalgerror_singular)\n\u001b[0;32m--> 409\u001b[0m r \u001b[38;5;241m=\u001b[39m \u001b[43mgufunc\u001b[49m\u001b[43m(\u001b[49m\u001b[43ma\u001b[49m\u001b[43m,\u001b[49m\u001b[43m \u001b[49m\u001b[43mb\u001b[49m\u001b[43m,\u001b[49m\u001b[43m \u001b[49m\u001b[43msignature\u001b[49m\u001b[38;5;241;43m=\u001b[39;49m\u001b[43msignature\u001b[49m\u001b[43m,\u001b[49m\u001b[43m \u001b[49m\u001b[43mextobj\u001b[49m\u001b[38;5;241;43m=\u001b[39;49m\u001b[43mextobj\u001b[49m\u001b[43m)\u001b[49m\n\u001b[1;32m    411\u001b[0m \u001b[38;5;28;01mreturn\u001b[39;00m wrap(r\u001b[38;5;241m.\u001b[39mastype(result_t, copy\u001b[38;5;241m=\u001b[39m\u001b[38;5;28;01mFalse\u001b[39;00m))\n",
      "File \u001b[0;32m~/Documents/ESIEE/E5/NLP/nlpenv/lib/python3.11/site-packages/numpy/linalg/linalg.py:112\u001b[0m, in \u001b[0;36m_raise_linalgerror_singular\u001b[0;34m(err, flag)\u001b[0m\n\u001b[1;32m    111\u001b[0m \u001b[38;5;28;01mdef\u001b[39;00m \u001b[38;5;21m_raise_linalgerror_singular\u001b[39m(err, flag):\n\u001b[0;32m--> 112\u001b[0m     \u001b[38;5;28;01mraise\u001b[39;00m LinAlgError(\u001b[38;5;124m\"\u001b[39m\u001b[38;5;124mSingular matrix\u001b[39m\u001b[38;5;124m\"\u001b[39m)\n",
      "\u001b[0;31mLinAlgError\u001b[0m: Singular matrix"
     ]
    }
   ],
   "source": [
    "df = pd.DataFrame(mat)\n",
    "X1 = df[classes[\"Class\"]==\"Household\"]\n",
    "X2 = df[classes[\"Class\"]==\"Books\"]\n",
    "u,s = lda(X1,X2)\n",
    "fig,ax = plt.subplots()\n",
    "render(X1,X2,u,s,ax,fig)"
   ]
  },
  {
   "cell_type": "markdown",
   "id": "005cdada",
   "metadata": {},
   "source": [
    "<font color=\"blue\">\n",
    "If we try to apply the LDA directly on our DT-Mat, we obtain a SingularMatrix error. It is due to a dimensionality problem leading to non inversible covariance matrices. There are several ways to deal with this issue, we retained two, a clean version and a handmade one:\n",
    "<ul>\n",
    "    <li>Reduce dimensionality of the dt-mat by using simple vector decomposition to projet data into a smaller space, we will call this SVD_LDA</li>\n",
    "    <li>Drop columns whose covariance are under a specific threshold. It leads to inversible covariance matrices and make us able to compute the LDA. We called this method CUSTOM_LDA</li>\n",
    "</ul>\n",
    "Another solution would have been to add a small dynamic robustness offset as in the KFDA method. Adding this offset results in creating some errors but it fixes the SingularMatrix error.<hr/>\n",
    "Before reducing the dimensionality, it would be a good thing to normalize the DT-Mat by using the TFIDF function. We can use the code from the Lab1\n",
    "</font>"
   ]
  },
  {
   "cell_type": "code",
   "execution_count": 15,
   "id": "75b3ae47",
   "metadata": {},
   "outputs": [],
   "source": [
    "# Code from Lab1\n",
    "def tf(dtmat):\n",
    "    return np.log(1+dtmat)\n",
    "    \n",
    "def idf(dtmat):\n",
    "    N = dtmat.shape[1]\n",
    "    df = pd.DataFrame(dtmat)\n",
    "    exists = lambda x : 1 if x > 0 else 0\n",
    "    res = df.applymap(exists) # If term appears in document replace by 1, else replace by 0\n",
    "    nt = res.sum(axis=1) # Number of documents in which each term appears\n",
    "    return np.tile(np.log((N+1)/(1+nt)).to_numpy(), (N, 1)).T # Repeat the vector in order to have the good dimensions\n",
    "\n",
    "def tfidf_dtmat(dtmat):\n",
    "    return tf(dtmat)*idf(dtmat)"
   ]
  },
  {
   "cell_type": "code",
   "execution_count": 14,
   "id": "6f809202",
   "metadata": {},
   "outputs": [
    {
     "data": {
      "text/plain": [
       "[<matplotlib.lines.Line2D at 0x7fd88628c510>]"
      ]
     },
     "execution_count": 14,
     "metadata": {},
     "output_type": "execute_result"
    },
    {
     "data": {
      "image/png": "[encoded data removed]",
      "text/plain": [
       "<Figure size 500x300 with 1 Axes>"
      ]
     },
     "metadata": {},
     "output_type": "display_data"
    }
   ],
   "source": [
    "from scipy import stats\n",
    "import matplotlib.pyplot as plt\n",
    "\n",
    "# Displays impact of singular values to keep those who explains the best the corpus\n",
    "U, sigma, V = np.linalg.svd(tfidf_dtmat(mat), full_matrices=True)\n",
    "\n",
    "res = stats.cumfreq(sigma)\n",
    "x = res.lowerlimit + np.linspace(0, res.binsize*res.cumcount.size,\n",
    "                                 res.cumcount.size)\n",
    "fig = plt.figure(figsize=(5,3))\n",
    "plt.plot(x, res.cumcount)"
   ]
  },
  {
   "cell_type": "markdown",
   "id": "f44a9503",
   "metadata": {},
   "source": [
    "<font color=\"blue\">\n",
    "<h3>SVD LDA</h3><br/>\n",
    "We reduce the dimensionality of the TFIDF matrix with the SVD algorithm before computing the optimal vector and it's abscissa with the LDA. In our case, we achieve pretty good results by deleting the first thousand of singular values and keeping only the last 132.\n",
    "</font>"
   ]
  },
  {
   "cell_type": "code",
   "execution_count": 17,
   "id": "5308deb6",
   "metadata": {},
   "outputs": [],
   "source": [
    "def svd_reduce(X,dimension=100):\n",
    "    U, sigma, V = np.linalg.svd(tfidf_dtmat(X), full_matrices=True)\n",
    "    sigmatild = np.diag(sigma[dimension:])\n",
    "    return np.dot(U[:,dimension:],sigmatild)"
   ]
  },
  {
   "cell_type": "code",
   "execution_count": 18,
   "id": "08d6651f",
   "metadata": {},
   "outputs": [],
   "source": [
    "def svd_lda(X,y):\n",
    "    A = svd_reduce(X,dimension=1000)\n",
    "    df = pd.DataFrame(A)\n",
    "    X1 = df[y==\"Household\"]\n",
    "    X2 = df[y ==\"Books\"]\n",
    "    u,s = lda(X1,X2)\n",
    "    return X1,X2,u,s"
   ]
  },
  {
   "cell_type": "markdown",
   "id": "b003e634",
   "metadata": {},
   "source": [
    "<font color=\"blue\">\n",
    "<h3>Custom LDA</h3><br/>\n",
    "The principle of this algorithm is to compute the variances of the words of both classes. If for any of these classes, a word has a variance under the threshold, we delete it from both classes. After this, step we can compute the LDA without having any error.\n",
    "</font>"
   ]
  },
  {
   "cell_type": "code",
   "execution_count": 19,
   "id": "65671b4f",
   "metadata": {},
   "outputs": [],
   "source": [
    "def custom_lda(tfidf_dtmat,y):\n",
    "    df = pd.DataFrame(tfidf_dtmat)\n",
    "    X1 = df[y==\"Household\"]\n",
    "    X2 = df[y ==\"Books\"]\n",
    "    # Checks for words whose variances are under the threshold\n",
    "    var1 = np.var(X1,axis=0)\n",
    "    var2 = np.var(X2,axis=0)\n",
    "    # If either one of the two variance is under, keeps the index in memory to remove after\n",
    "    var = var1*var2\n",
    "    remove_ind = np.where(var <= 0.02)[0] # CHANGE VARIANCE THRESHOLD TO IMPROVE CLASSIFICATION\n",
    "    # Combine the new two classes\n",
    "    X1 = pd.DataFrame(X1).drop(remove_ind, axis=1) # Removes \n",
    "    X2 = pd.DataFrame(X2).drop(remove_ind, axis=1) # Removes \n",
    "    u,s = lda(X1,X2)\n",
    "    return X1,X2,u,s"
   ]
  },
  {
   "cell_type": "markdown",
   "id": "3cd416d4",
   "metadata": {},
   "source": [
    "<font color=\"blue\">\n",
    "<h3>Rendering and comparison</h3>\n",
    "</font>"
   ]
  },
  {
   "cell_type": "code",
   "execution_count": 20,
   "id": "36ff91c3",
   "metadata": {},
   "outputs": [
    {
     "name": "stderr",
     "output_type": "stream",
     "text": [
      "/tmp/ipykernel_13382/450833346.py:9: FutureWarning: DataFrame.applymap has been deprecated. Use DataFrame.map instead.\n",
      "  res = df.applymap(exists) # If term appears in document replace by 1, else replace by 0\n",
      "/tmp/ipykernel_13382/450833346.py:9: FutureWarning: DataFrame.applymap has been deprecated. Use DataFrame.map instead.\n",
      "  res = df.applymap(exists) # If term appears in document replace by 1, else replace by 0\n"
     ]
    },
    {
     "name": "stdout",
     "output_type": "stream",
     "text": [
      "Abscissa of the boundary:  -0.019570804174148373\n",
      "A total of  453  points are misclassified ( 40.01766784452297 %)\n"
     ]
    },
    {
     "name": "stderr",
     "output_type": "stream",
     "text": [
      "/tmp/ipykernel_13382/450833346.py:9: FutureWarning: DataFrame.applymap has been deprecated. Use DataFrame.map instead.\n",
      "  res = df.applymap(exists) # If term appears in document replace by 1, else replace by 0\n"
     ]
    },
    {
     "name": "stdout",
     "output_type": "stream",
     "text": [
      "Abscissa of the boundary:  4.643528661988289\n",
      "A total of  14  points are misclassified ( 1.2367491166077738 %)\n"
     ]
    },
    {
     "data": {
      "text/plain": [
       "<matplotlib.legend.Legend at 0x7f78d00c0290>"
      ]
     },
     "execution_count": 20,
     "metadata": {},
     "output_type": "execute_result"
    },
    {
     "data": {
      "image/png": "[encoded data removed]",
      "text/plain": [
       "<Figure size 1500x700 with 2 Axes>"
      ]
     },
     "metadata": {},
     "output_type": "display_data"
    }
   ],
   "source": [
    "# Figure creation\n",
    "fig,(ax1,ax2) = plt.subplots(1,2, figsize=(15,7))\n",
    "ax1.set_title(\"SVD LDA\")\n",
    "ax2.set_title(\"Custom LDA\")\n",
    "\n",
    "# LDA w/ SVD to fix singular matrix\n",
    "X1,X2,u,s = svd_lda(tfidf_dtmat(mat),classes[\"Class\"])\n",
    "render(X1,X2,u,s,ax1,fig)\n",
    "# LDA w/ custom method to fix singular matrix\n",
    "X3,X4,u2,s2 = custom_lda(tfidf_dtmat(mat),classes[\"Class\"])\n",
    "render(X3,X4,u2,s2,ax2,fig)\n",
    "\n",
    "fig.legend()"
   ]
  },
  {
   "cell_type": "markdown",
   "id": "699f57ee",
   "metadata": {},
   "source": [
    "<font color=\"blue\">\n",
    "We notice that we achieve far better results with the custom LDA than with the SVD LDA. However, this method will have some issues when kernelizing the LDA and increasing the dimensionality of the results. Indeed, we delete too few dimensions and then \n",
    "</font>"
   ]
  },
  {
   "cell_type": "markdown",
   "id": "6dcc15f6",
   "metadata": {},
   "source": [
    "## 4. Kernelized LDA\n",
    "\n",
    "The kernelized version of LDA is implemented as a kfda package. Its homepage is here: https://pypi.org/project/kfda/\n",
    "You should install it by running pip3 install kfda\n",
    "\n",
    "### Question 7\n",
    "\n",
    "Let $\\boldsymbol{x}$ and $\\boldsymbol{y}$ be any two columns of your D-T matrix (which you may assume TD-IDF normalized or not, it does not change the problem). Consider the inhomogeneous polynomial kernel \n",
    "$$k(\\boldsymbol{x},\\boldsymbol{y})= (1+<\\boldsymbol{x},\\boldsymbol{y}>)^n$$\n",
    "where $n>0$ is integer.\n",
    "\n",
    "- Suppose that $n=2$, and that the above kernel is used in a kernelized LDA. What are the new axes created in the feature space, that didn't exist when $n=1$? Which of these could be useful, and change the solution computed by LDA in the feature space ?\n",
    "- Try to classify using this setup, and report your results. Then increase $n$ (moderately). What causes the computational bottleneck of kernelized LDA ?"
   ]
  },
  {
   "cell_type": "markdown",
   "id": "b75dce9c",
   "metadata": {},
   "source": [
    "<font color=\"blue\">\n",
    "<h3>Answer:</h3>\n",
    "Here we consider that every column only have two components. However, in reality, each column corresponds to a word and has over a thousand of dimensions (n_doc)  \n",
    "\n",
    "If n=1, \n",
    "</font>\n",
    "$k(x,y) = 1 + <x,y> = 1 + x_1y_1 + x_2y_2 = [1, x_1, x_2].[1, y_1, y_2]$  \n",
    "<font color=\"blue\">\n",
    "The features space has 3 dimensions for n=1. One axis has been created.  \n",
    "Considering the DT_Matrix, it has (1 + n_doc) dimensions\n",
    "    \n",
    "If n=2\n",
    "</font>\n",
    "$k(x,y) = (1 + <x,y>)² = 1 + 2x_1y_1 + 2x_2y_2 + x_1²y_1² + 2x_1y_1x_2y_2 + x_2²y_2² $\n",
    "$k(x,y) = [1, \\sqrt{2}x_1,\\sqrt{2}x_2, x_1², \\sqrt{2}x_1x_2, x_2²].[1,  \\sqrt{2}y_1, \\sqrt{2}y_2, y_1², \\sqrt{2}y_1y_2, y_2²]$  \n",
    "<font color=\"blue\">\n",
    "The features space has 6 dimensions for n=2. There are 3 more axes than for n=1.  \n",
    "Considering the DT_Matrix, it has (1 + 2n_doc + (n_doc(n_doc +1))/2) dimensions which is far greater than for n=1  \n",
    "From our guess, the interesting axis that could change the solution is the one involving the multiplication of x_1 and x_2\n",
    "</font>"
   ]
  },
  {
   "cell_type": "code",
   "execution_count": 21,
   "id": "435382c1",
   "metadata": {
    "scrolled": true
   },
   "outputs": [
    {
     "name": "stderr",
     "output_type": "stream",
     "text": [
      "/tmp/ipykernel_13382/450833346.py:9: FutureWarning: DataFrame.applymap has been deprecated. Use DataFrame.map instead.\n",
      "  res = df.applymap(exists) # If term appears in document replace by 1, else replace by 0\n"
     ]
    },
    {
     "name": "stdout",
     "output_type": "stream",
     "text": [
      "Computing the  1 -th iterarion\n"
     ]
    },
    {
     "name": "stderr",
     "output_type": "stream",
     "text": [
      "/home/seb/Documents/ESIEE/E5/NLP/nlpenv/lib/python3.11/site-packages/kfda/kfda.py:75: UserWarning: n_components > classes_.size - 1.Only the first classes_.size - 1 components will be valid.\n",
      "  warnings.warn(\n"
     ]
    },
    {
     "name": "stdout",
     "output_type": "stream",
     "text": [
      "Computing the  2 -th iterarion\n"
     ]
    },
    {
     "name": "stderr",
     "output_type": "stream",
     "text": [
      "/home/seb/Documents/ESIEE/E5/NLP/nlpenv/lib/python3.11/site-packages/kfda/kfda.py:75: UserWarning: n_components > classes_.size - 1.Only the first classes_.size - 1 components will be valid.\n",
      "  warnings.warn(\n"
     ]
    },
    {
     "name": "stdout",
     "output_type": "stream",
     "text": [
      "Computing the  3 -th iterarion\n"
     ]
    },
    {
     "name": "stderr",
     "output_type": "stream",
     "text": [
      "/home/seb/Documents/ESIEE/E5/NLP/nlpenv/lib/python3.11/site-packages/kfda/kfda.py:75: UserWarning: n_components > classes_.size - 1.Only the first classes_.size - 1 components will be valid.\n",
      "  warnings.warn(\n"
     ]
    },
    {
     "name": "stdout",
     "output_type": "stream",
     "text": [
      "Computing the  4 -th iterarion\n"
     ]
    },
    {
     "name": "stderr",
     "output_type": "stream",
     "text": [
      "/home/seb/Documents/ESIEE/E5/NLP/nlpenv/lib/python3.11/site-packages/kfda/kfda.py:75: UserWarning: n_components > classes_.size - 1.Only the first classes_.size - 1 components will be valid.\n",
      "  warnings.warn(\n"
     ]
    },
    {
     "name": "stdout",
     "output_type": "stream",
     "text": [
      "Computing the  5 -th iterarion\n"
     ]
    },
    {
     "name": "stderr",
     "output_type": "stream",
     "text": [
      "/home/seb/Documents/ESIEE/E5/NLP/nlpenv/lib/python3.11/site-packages/kfda/kfda.py:75: UserWarning: n_components > classes_.size - 1.Only the first classes_.size - 1 components will be valid.\n",
      "  warnings.warn(\n"
     ]
    },
    {
     "name": "stdout",
     "output_type": "stream",
     "text": [
      "Computing the  6 -th iterarion\n"
     ]
    },
    {
     "name": "stderr",
     "output_type": "stream",
     "text": [
      "/home/seb/Documents/ESIEE/E5/NLP/nlpenv/lib/python3.11/site-packages/kfda/kfda.py:75: UserWarning: n_components > classes_.size - 1.Only the first classes_.size - 1 components will be valid.\n",
      "  warnings.warn(\n"
     ]
    }
   ],
   "source": [
    "from kfda import Kfda\n",
    "from sklearn.preprocessing import LabelEncoder\n",
    "from sklearn.model_selection import train_test_split\n",
    "\n",
    "X = svd_reduce(mat,dimension=1000)\n",
    "X = X/np.max(X)\n",
    "y = LabelEncoder().fit_transform(classes[\"Class\"])\n",
    "X_train, X_test, y_train, y_test = train_test_split(X, y, test_size=0.3, random_state=42)\n",
    "scores = []\n",
    "for n in range(1, 7):\n",
    "    print('Computing the ', n, '-th iterarion')\n",
    "    k = lambda a,b : (1 + np.dot(a,b))**n\n",
    "\n",
    "    cls = Kfda(n_components=2, kernel=k)\n",
    "    cls.fit(np.array(X_train),np.array(y_train))\n",
    "    scores.append(cls.score(np.array(X_test), np.array(y_test)))"
   ]
  },
  {
   "cell_type": "code",
   "execution_count": 22,
   "id": "37394025",
   "metadata": {},
   "outputs": [
    {
     "name": "stdout",
     "output_type": "stream",
     "text": [
      "[0.5558823529411765, 0.65, 0.6794117647058824, 0.6823529411764706, 0.6852941176470588, 0.6911764705882353]\n"
     ]
    }
   ],
   "source": [
    "print(scores)"
   ]
  },
  {
   "cell_type": "markdown",
   "id": "85326674",
   "metadata": {},
   "source": [
    "<font color=\"blue\">\n",
    "The bottleneck of the kernelized LDA is that for high degree, the space complexity increases a lot because of the exponential number of dimensions in the new space. It also results in overfitting leading to poor results with never seen values. As we can see above, we achieve the best results with a inhomogeneous polynomial kernel of degree 1. \n",
    "</font>"
   ]
  },
  {
   "cell_type": "markdown",
   "id": "a1fb3b61",
   "metadata": {},
   "source": [
    "### Question 8\n",
    "\n",
    "We will now slightely improve the above kernel by replacing the natural dot product \n",
    "$$<\\boldsymbol{x},\\boldsymbol{y}>$$ \n",
    "by \n",
    "$$ \\sum_i \\min(\\boldsymbol{x}_i, \\boldsymbol{y}_i) $$\n",
    "resulting in\n",
    "\n",
    "$$f(\\boldsymbol{x},\\boldsymbol{y})= (1+\\sum_i \\min(\\boldsymbol{x}_i, \\boldsymbol{y}_i) )^n$$\n",
    "\n",
    "Is $f$ a positive semidefinite kernel ? Either prove that it is, or give a counter-example."
   ]
  },
  {
   "cell_type": "markdown",
   "id": "6fcaafc6",
   "metadata": {},
   "source": [
    "<font color=\"blue\">\n",
    "Let's first consider the function $K(\\boldsymbol{x},\\boldsymbol{y})=\\sum_i \\min(\\boldsymbol{x}_i, \\boldsymbol{y}_i)$. We want to check if this function is a positive semidefinite kernel. \n",
    "  \n",
    "If we consider a function $\\phi([0:N]) \\rightarrow \\{0,1\\}^N, \\forall \\boldsymbol{x} \\in [0:N] \\rightarrow \\phi(\\boldsymbol{x}) = [y_1,...,y_N]^T$ with $y_k = \\begin{cases} 1, \\text{if}\\boldsymbol{k} \\leq \\boldsymbol{x} \\\\ 0, \\text{otherwise} \\end{cases}$  \n",
    "  \n",
    "We can consider that $\\phi$ is a bijective function because every point from the input space has an image inside of the output space.  \n",
    "Also, we can define $min(u,v)=<\\phi(u),\\phi(v)>$. From this property, we also obtain that $min(u,v)$ is a symetric function.  \n",
    "By the Mercer theorem, we can conclude that $min(u,v)$ is a positive semidefinite kernel. Also the sum of positive semidefinite kernels is also a positive semidefinite kernel.  \n",
    "Thus, $K(^\\boldsymbol{x}, \\boldsymbol{y})$ is a positive semidefinite kernel.  \n",
    "  \n",
    "A positive semidefinite kernel can be replaced by a dot product, then we can write $f(\\boldsymbol{x}, \\boldsymbol{y}) = (1+\\sum_i \\min(\\boldsymbol{x_i}, \\boldsymbol{y_i}))^n = (1+K(\\boldsymbol{x}, \\boldsymbol{y}))^n = (1 + <\\phi_2(\\boldsymbol{x}),\\phi_2(\\boldsymbol{y})>)^n$  \n",
    "This expression is that of the inhomogeneous polynomial kernel of order n. We can then conclude that $f(\\boldsymbol{x},\\boldsymbol{y})$ is a positive semidefinite kernel.\n",
    "</font>"
   ]
  },
  {
   "cell_type": "markdown",
   "id": "45996a2d",
   "metadata": {},
   "source": [
    "### Question 9\n",
    "\n",
    "Irrespective of your answer to question 8, try kfda with $f$ as its kernel. Looking at the source code https://github.com/concavegit/kfda/blob/master/kfda/kfda.py you will notice (line 92) that it relies on the paiwise_kernels function from sklearn to compute the Gram matrix. \n",
    "\n",
    "According to sklearn documentation https://scikit-learn.org/stable/modules/generated/sklearn.metrics.pairwise.pairwise_kernels.html the kernel parameter can be a callable, hence you can supply a function of your own as the kernel argument, possibly using the keywords field (kwds).\n",
    "\n",
    "Report your classification results, possibly varying $n$ (be reasonable with values, high $n$ may cause floating point exceptions, in addition of being meaningless). You should likely obtain decent (~ 75% accuracy, say) but not outstanding results.  This, however, is highly dependent on the dataset and classes you chose."
   ]
  },
  {
   "cell_type": "code",
   "execution_count": 23,
   "id": "a4050970",
   "metadata": {},
   "outputs": [
    {
     "name": "stderr",
     "output_type": "stream",
     "text": [
      "/tmp/ipykernel_13382/450833346.py:9: FutureWarning: DataFrame.applymap has been deprecated. Use DataFrame.map instead.\n",
      "  res = df.applymap(exists) # If term appears in document replace by 1, else replace by 0\n",
      "/home/seb/Documents/ESIEE/E5/NLP/nlpenv/lib/python3.11/site-packages/kfda/kfda.py:75: UserWarning: n_components > classes_.size - 1.Only the first classes_.size - 1 components will be valid.\n",
      "  warnings.warn(\n",
      "/home/seb/Documents/ESIEE/E5/NLP/nlpenv/lib/python3.11/site-packages/kfda/kfda.py:75: UserWarning: n_components > classes_.size - 1.Only the first classes_.size - 1 components will be valid.\n",
      "  warnings.warn(\n",
      "/home/seb/Documents/ESIEE/E5/NLP/nlpenv/lib/python3.11/site-packages/kfda/kfda.py:75: UserWarning: n_components > classes_.size - 1.Only the first classes_.size - 1 components will be valid.\n",
      "  warnings.warn(\n",
      "/home/seb/Documents/ESIEE/E5/NLP/nlpenv/lib/python3.11/site-packages/kfda/kfda.py:75: UserWarning: n_components > classes_.size - 1.Only the first classes_.size - 1 components will be valid.\n",
      "  warnings.warn(\n"
     ]
    }
   ],
   "source": [
    "X = svd_reduce(mat, dimension=1000)\n",
    "X = X/np.max(X)\n",
    "y = LabelEncoder().fit_transform(classes[\"Class\"])\n",
    "X_train, X_test, y_train, y_test = train_test_split(X, y, test_size=0.3, random_state=42)\n",
    "\n",
    "scores = []\n",
    "for n in range(1, 5):\n",
    "    f = lambda a,b: (1 + sum(np.minimum(a,b)))**n\n",
    "    cls = Kfda(n_components=2, kernel=f)\n",
    "    cls.fit(np.array(X_train),np.array(y_train))\n",
    "    scores.append(cls.score(np.array(X_test), np.array(y_test)))"
   ]
  },
  {
   "cell_type": "code",
   "execution_count": 24,
   "id": "0883da35",
   "metadata": {},
   "outputs": [
    {
     "name": "stdout",
     "output_type": "stream",
     "text": [
      "[0.6970588235294117, 0.7, 0.6852941176470588, 0.7411764705882353]\n"
     ]
    }
   ],
   "source": [
    "print(scores)"
   ]
  },
  {
   "cell_type": "markdown",
   "id": "0ea46f78",
   "metadata": {},
   "source": [
    "<font color=\"blue\">\n",
    "To assess the accuracy of the model, we compute scores for kernel with increasing degrees and observe the differences. We notice that the scoring function's output increases with n increasing. For a kernel of degree 4, we almost have 75% of accuracy on the prediction.\n",
    "</font>"
   ]
  },
  {
   "cell_type": "markdown",
   "id": "42178c26",
   "metadata": {},
   "source": [
    "### Question 10\n",
    "\n",
    "One reason why the obtained accuracy is not fantastic is that the vector model we are using is blind to bigrams. For instance, we may encounter (normalized) words \"donald\", and \"trump\" separately in a document, but this is very different from \"donald trump\".\n",
    "\n",
    "One way to fix this is to include bigrams in the vocabulary : for two consecutive words, like \"donald trump\", we would add a synthetic word \"donald_trump\" to the vocabulary. \n",
    "\n",
    "What would be the memory complexity of the solution ?"
   ]
  },
  {
   "cell_type": "markdown",
   "id": "94ba60d9",
   "metadata": {},
   "source": [
    "<font color=\"blue\">\n",
    "<h3>\n",
    "Anwer  \n",
    "</h3>\n",
    "Adding every synthetic word to the vocabulary consists in combining into two consecutive word by adding an underscore as separator. For example, if we have two words A and B, we will add to the vocabulary the word A_B.  \n",
    "Then, if we have a vocabulary of n words, adding every possible synthetic words will increase by (n-1) the size of the vocabulary. Thus, we roundly multiply by two the memory complexity complexity of the solution.\n",
    "</font>"
   ]
  },
  {
   "cell_type": "markdown",
   "id": "eec0fa64",
   "metadata": {},
   "source": [
    "### Question 11\n",
    "\n",
    "Add an extra \"bigram\" parameter to voc_from_csv() to do so, and compare your results to those of question 9. Bigrams can be generated very simply using a code similar to this one:"
   ]
  },
  {
   "cell_type": "code",
   "execution_count": 5,
   "id": "2fb98f57",
   "metadata": {
    "scrolled": true
   },
   "outputs": [
    {
     "data": {
      "text/plain": [
       "['I_think',\n",
       " 'think_traveling',\n",
       " 'traveling_to',\n",
       " 'to_Rio',\n",
       " 'Rio_next',\n",
       " 'next_winter',\n",
       " 'winter_would',\n",
       " 'would_be',\n",
       " 'be_great']"
      ]
     },
     "execution_count": 5,
     "metadata": {},
     "output_type": "execute_result"
    }
   ],
   "source": [
    "w=['I','think','traveling','to','Rio','next','winter','would','be','great']\n",
    "[w[i]+'_'+w[i+1] for i in range(0,len(w)-1)]"
   ]
  },
  {
   "cell_type": "markdown",
   "id": "0eea3104",
   "metadata": {},
   "source": [
    "<font color=\"blue\">\n",
    "Considering the function above used to generate bigrams from a vocabulary, we apply the same mecanism directly inside of the voc_from_csv2 to extend the vocabulary. However, since we clean rare words, we must also check the existence of the bigram in the function dtmat_from_csv2 to provide it from being discarded by the purge parameter. \n",
    "</font>"
   ]
  },
  {
   "cell_type": "code",
   "execution_count": 26,
   "id": "61b12aea",
   "metadata": {},
   "outputs": [],
   "source": [
    "import csv\n",
    "import nltk\n",
    "import numpy as np\n",
    "import sys\n",
    "\n",
    "\n",
    "def voc_from_csv2(csvfile):\n",
    "    nlines=0\n",
    "    voc=[]\n",
    "    with open(csvfile, errors='ignore') as file:\n",
    "        reader=csv.reader(file, delimiter=',')\n",
    "        for row in reader:\n",
    "            nlines=nlines+1\n",
    "            voc.extend(nltk.wordpunct_tokenize(row[1]))\n",
    "    # Creates bigrams from the previously generated vocabulary \n",
    "    voc.extend([voc[i]+'_'+voc[i+1] for i in range(0,len(voc)-1)])\n",
    "    voc=sorted(set(voc))   \n",
    "    return voc,nlines\n",
    "\n",
    "def dtmat_from_csv2(csvfile, purge=False):\n",
    "    voc,rows=voc_from_csv2(csvfile)\n",
    "    cols=len(voc)\n",
    "    mat=np.zeros((rows,cols))\n",
    "    d=0\n",
    "    with open(csvfile,  errors='ignore') as file:\n",
    "        reader=csv.reader(file, delimiter=',')\n",
    "        for row in reader:\n",
    "            w= nltk.wordpunct_tokenize(row[1])\n",
    "            # Creates all the bigrams of the current document to count their occurences\n",
    "            # alongside the vocabulary\n",
    "            w.extend([w[i]+'_'+w[i+1] for i in range(0,len(w)-1)])\n",
    "            X=np.searchsorted(voc,w,side='left')            \n",
    "            for i in range(0,len(w)):\n",
    "                if (X[i] < cols):\n",
    "                    if (w[i] == voc[X[i]]):\n",
    "                        mat[d][X[i]]+=1\n",
    "            d=d+1\n",
    "    if purge:\n",
    "        df = pd.DataFrame(mat)\n",
    "        print(\"Before purge: \", df.shape)\n",
    "        column_sum = df.sum(axis=0)\n",
    "        selected_columns = [col for col in df.columns if column_sum[col] >= 2]\n",
    "        df = df[selected_columns]\n",
    "        mat = df.to_numpy()\n",
    "    return mat\n"
   ]
  },
  {
   "cell_type": "markdown",
   "id": "2cc6caa5",
   "metadata": {},
   "source": [
    "<font color=\"blue\">\n",
    "We can check for the dimensions of the new features matrix extended by the bigrams before and after the purge \n",
    "</font>"
   ]
  },
  {
   "cell_type": "code",
   "execution_count": 27,
   "id": "d53030bb",
   "metadata": {
    "scrolled": true
   },
   "outputs": [
    {
     "name": "stdout",
     "output_type": "stream",
     "text": [
      "Before purge:  (1132, 19442)\n",
      "(1132, 10337)\n",
      "Before purge:  (1132, 112219)\n",
      "(1132, 33961)\n"
     ]
    }
   ],
   "source": [
    "mat2 = dtmat_from_csv2('Wdataset.csv', purge=True)\n",
    "print(mat2.shape)"
   ]
  },
  {
   "cell_type": "markdown",
   "id": "fc9077f7",
   "metadata": {},
   "source": [
    "<font color=\"blue\">\n",
    "We notice the critical importance of the purge parameters when we extend the vocabulary with bigrams because whe divide by almost four the size of the vocabulary.\n",
    "</font>"
   ]
  },
  {
   "cell_type": "code",
   "execution_count": null,
   "id": "95436d8f",
   "metadata": {},
   "outputs": [
    {
     "name": "stderr",
     "output_type": "stream",
     "text": [
      "/tmp/ipykernel_13382/450833346.py:9: FutureWarning: DataFrame.applymap has been deprecated. Use DataFrame.map instead.\n",
      "  res = df.applymap(exists) # If term appears in document replace by 1, else replace by 0\n",
      "/tmp/ipykernel_13382/450833346.py:9: FutureWarning: DataFrame.applymap has been deprecated. Use DataFrame.map instead.\n",
      "  res = df.applymap(exists) # If term appears in document replace by 1, else replace by 0\n"
     ]
    }
   ],
   "source": [
    "X = svd_reduce(tfidf_dtmat(mat2),dimension=1000)\n",
    "X = X/np.max(X)\n",
    "y = LabelEncoder().fit_transform(classes[\"Class\"])\n",
    "X_train, X_test, y_train, y_test = train_test_split(X, y, test_size=0.3, random_state=42)\n",
    "\n",
    "scores = []\n",
    "for n in range(1, 2):\n",
    "    f = lambda a,b: (1 + sum(np.minimum(a,b)))**n\n",
    "    cls = Kfda(n_components=2, kernel=f)\n",
    "    cls.fit(np.array(X_train),np.array(y_train))\n",
    "    scores.append(cls.score(np.array(X_test), np.array(y_test)))"
   ]
  },
  {
   "cell_type": "markdown",
   "id": "1af63a4e",
   "metadata": {},
   "source": [
    "<font color=\"blue\">\n",
    "Because of the increasing number of features after the addition of the bigrams, we can't run the algorithm on our own computer. Thus, we used your Fedora server to compute this question with the program below:<br/>\n",
    "    \n",
    "<u>prog.py</u>\n",
    "</font>"
   ]
  },
  {
   "cell_type": "code",
   "execution_count": null,
   "id": "e2448259",
   "metadata": {},
   "outputs": [],
   "source": [
    "from kfda import Kfda\n",
    "import pandas as pd\n",
    "from sklearn.preprocessing import LabelEncoder\n",
    "from sklearn.model_selection import train_test_split\n",
    "\n",
    "\n",
    "# Code from Lab1\n",
    "def tf(dtmat):\n",
    "    return np.log(1+dtmat)\n",
    "    \n",
    "def idf(dtmat):\n",
    "    N = dtmat.shape[1]\n",
    "    df = pd.DataFrame(dtmat)\n",
    "    exists = lambda x : 1 if x > 0 else 0\n",
    "    res = df.applymap(exists) # If term appears in document replace by 1, else replace by 0\n",
    "    nt = res.sum(axis=1) # Number of documents in which each term appears\n",
    "    return np.tile(np.log((N+1)/(1+nt)).to_numpy(), (N, 1)).T # Repeat the vector in order to have the good dimensions\n",
    "\n",
    "def tfidf_dtmat(dtmat):\n",
    "    return tf(dtmat)*idf(dtmat)\n",
    "\n",
    "def svd_reduce(X,dimension=100):\n",
    "    U, sigma, V = np.linalg.svd(tfidf_dtmat(X), full_matrices=True)\n",
    "    sigmatild = np.diag(sigma[dimension:])\n",
    "    return np.dot(U[:,dimension:],sigmatild)\n",
    "\n",
    "import csv\n",
    "import nltk\n",
    "import numpy as np\n",
    "import sys\n",
    "\n",
    "\n",
    "def voc_from_csv2(csvfile):\n",
    "    nlines=0\n",
    "    voc=[]\n",
    "    with open(csvfile, errors='ignore') as file:\n",
    "        reader=csv.reader(file, delimiter=',')\n",
    "        for row in reader:\n",
    "            nlines=nlines+1\n",
    "            voc.extend(nltk.wordpunct_tokenize(row[1]))\n",
    "    voc.extend([voc[i]+'_'+voc[i+1] for i in range(0,len(voc)-1)])\n",
    "    voc=sorted(set(voc))   \n",
    "    return voc,nlines\n",
    "\n",
    "def dtmat_from_csv2(csvfile, purge=False):\n",
    "    voc,rows=voc_from_csv2(csvfile)\n",
    "    cols=len(voc)\n",
    "    mat=np.zeros((rows,cols))\n",
    "    d=0\n",
    "    with open(csvfile,  errors='ignore') as file:\n",
    "        reader=csv.reader(file, delimiter=',')\n",
    "        for row in reader:\n",
    "            w= nltk.wordpunct_tokenize(row[1])\n",
    "            w.extend([w[i]+'_'+w[i+1] for i in range(0,len(w)-1)])\n",
    "            X=np.searchsorted(voc,w,side='left')            \n",
    "            for i in range(0,len(w)):\n",
    "                if (X[i] < cols):\n",
    "                    if (w[i] == voc[X[i]]):\n",
    "                        mat[d][X[i]]+=1\n",
    "            d=d+1\n",
    "    if purge:\n",
    "        df = pd.DataFrame(mat)\n",
    "        print(\"Before purge: \", df.shape)\n",
    "        column_sum = df.sum(axis=0)\n",
    "        selected_columns = [col for col in df.columns if column_sum[col] >= 2]\n",
    "        df = df[selected_columns]\n",
    "        mat = df.to_numpy()\n",
    "    return mat\n",
    "\n",
    "\n",
    "df = pd.read_csv('dataset.csv')\n",
    "# Only keeps Household and Books classes\n",
    "df.columns = ['Class', 'Text']\n",
    "df = df.drop(df[df.Class == 'Clothing & Accessories'].index)\n",
    "df = df.drop(df[df.Class == 'Electronics'].index)\n",
    "\n",
    "# Discard data to avoid too long computation time\n",
    "remove_n = 30000\n",
    "drop_indices = np.random.choice(df.index, remove_n, replace=False)\n",
    "df_subset = df.drop(drop_indices)\n",
    "classes = df_subset[\"Class\"].reset_index()\n",
    "\n",
    "total = df_subset.shape[0]\n",
    "class1 = df_subset[df.Class=='Household'].shape[0]\n",
    "class2 = df_subset[df.Class=='Books'].shape[0]\n",
    "print('Total size: ', total,'\\nClass 1 size: ',class1,'\\nClass 2 size: ', class2)\n",
    "\n",
    "df_subset.to_csv('Wdataset.csv', index=False,header=False)\n",
    "\n",
    "mat2 = dtmat_from_csv2('Wdataset.csv', purge=True)\n",
    "X = svd_reduce(mat2,dimension=1000)\n",
    "X = X/np.max(X)\n",
    "y = LabelEncoder().fit_transform(classes[\"Class\"])\n",
    "X_train, X_test, y_train, y_test = train_test_split(X, y, test_size=0.3, random_state=42)\n",
    "\n",
    "scores = []\n",
    "for n in range(1, 4):\n",
    "    f = lambda a,b: (1 + sum(np.minimum(a,b)))**n\n",
    "    cls = Kfda(n_components=2, kernel=f)\n",
    "    cls.fit(np.array(X_train),np.array(y_train))\n",
    "    scores.append(cls.score(np.array(X_test), np.array(y_test)))\n",
    "\n",
    "print(scores)\n"
   ]
  },
  {
   "cell_type": "markdown",
   "id": "d5a7444a",
   "metadata": {},
   "source": [
    "<font color=\"blue\">\n",
    "The output of this program gives the scores of the k-th degree kernel on the extended vocabulary.\n",
    "<ul>\n",
    "    <li>For n=3, we obtain theses results: [0.7235294117647059, 0.7029411764705882, 0.7323529411764705] <br/>Globally, we notice a small improvement on the results of question 9. This increase is due to the new bigrams added to the vocabulary. Indeed, if we put this aside, the program runs in the exact same conditions.</li>\n",
    "    <li>For n=4, an issue occur during the fourth iteration. This issue is due to a lack of memory from the server. Considering that we have a a space of 1000 dimensions, the kernelized space will become too big to be computed by python. Also, considering too big degrees for the kernel would lead into overfitting of the model.</li>\n",
    "</ul>\n",
    "</font>"
   ]
  }
 ],
 "metadata": {
  "kernelspec": {
   "display_name": "Python 3 (ipykernel)",
   "language": "python",
   "name": "python3"
  },
  "language_info": {
   "codemirror_mode": {
    "name": "ipython",
    "version": 3
   },
   "file_extension": ".py",
   "mimetype": "text/x-python",
   "name": "python",
   "nbconvert_exporter": "python",
   "pygments_lexer": "ipython3",
   "version": "3.9.7"
  }
 },
 "nbformat": 4,
 "nbformat_minor": 5
}
